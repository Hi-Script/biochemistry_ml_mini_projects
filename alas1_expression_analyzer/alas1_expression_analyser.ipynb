{
 "cells": [
  {
   "cell_type": "markdown",
   "id": "2414e503",
   "metadata": {},
   "source": [
    "# Analysis of expression of ALAS1 protein in respect to strain type"
   ]
  },
  {
   "cell_type": "code",
   "execution_count": 3,
   "id": "258bd8de",
   "metadata": {},
   "outputs": [],
   "source": [
    "import pandas as pd\n",
    "import numpy as np\n",
    "import matplotlib.pyplot as plt\n",
    "%matplotlib inline\n"
   ]
  },
  {
   "cell_type": "markdown",
   "id": "ca145705",
   "metadata": {},
   "source": [
    "# Import Data"
   ]
  },
  {
   "cell_type": "code",
   "execution_count": 4,
   "id": "6e57f888",
   "metadata": {},
   "outputs": [
    {
     "data": {
      "text/html": [
       "<div>\n",
       "<style scoped>\n",
       "    .dataframe tbody tr th:only-of-type {\n",
       "        vertical-align: middle;\n",
       "    }\n",
       "\n",
       "    .dataframe tbody tr th {\n",
       "        vertical-align: top;\n",
       "    }\n",
       "\n",
       "    .dataframe thead th {\n",
       "        text-align: right;\n",
       "    }\n",
       "</style>\n",
       "<table border=\"1\" class=\"dataframe\">\n",
       "  <thead>\n",
       "    <tr style=\"text-align: right;\">\n",
       "      <th></th>\n",
       "      <th>Experiment ID</th>\n",
       "      <th>Library ID</th>\n",
       "      <th>Gene ID</th>\n",
       "      <th>Gene name</th>\n",
       "      <th>Expression level</th>\n",
       "      <th>Expression level unit</th>\n",
       "      <th>Read count</th>\n",
       "      <th>UMI count</th>\n",
       "      <th>Expression p-value</th>\n",
       "      <th>Anat. entity ID</th>\n",
       "      <th>Anat. entity name</th>\n",
       "      <th>Stage ID</th>\n",
       "      <th>Stage name</th>\n",
       "      <th>Sex</th>\n",
       "      <th>Strain</th>\n",
       "      <th>Species</th>\n",
       "    </tr>\n",
       "  </thead>\n",
       "  <tbody>\n",
       "    <tr>\n",
       "      <th>0</th>\n",
       "      <td>GSE30611</td>\n",
       "      <td>ERX011182</td>\n",
       "      <td>ENSG00000023330</td>\n",
       "      <td>ALAS1</td>\n",
       "      <td>30.808488</td>\n",
       "      <td>TPM</td>\n",
       "      <td>3760.99945</td>\n",
       "      <td>0</td>\n",
       "      <td>5.92E-11</td>\n",
       "      <td>UBERON:0000082</td>\n",
       "      <td>adult mammalian kidney</td>\n",
       "      <td>HsapDv:0000154</td>\n",
       "      <td>60-year-old stage (human)</td>\n",
       "      <td>female</td>\n",
       "      <td>White</td>\n",
       "      <td>Homo sapiens</td>\n",
       "    </tr>\n",
       "    <tr>\n",
       "      <th>1</th>\n",
       "      <td>GSE30611</td>\n",
       "      <td>ERX011183</td>\n",
       "      <td>ENSG00000023330</td>\n",
       "      <td>ALAS1</td>\n",
       "      <td>49.806236</td>\n",
       "      <td>TPM</td>\n",
       "      <td>6203.00120</td>\n",
       "      <td>0</td>\n",
       "      <td>&lt;= 7.47e-17</td>\n",
       "      <td>UBERON:0000948</td>\n",
       "      <td>heart</td>\n",
       "      <td>HsapDv:0000171</td>\n",
       "      <td>77-year-old stage (human)</td>\n",
       "      <td>male</td>\n",
       "      <td>White</td>\n",
       "      <td>Homo sapiens</td>\n",
       "    </tr>\n",
       "    <tr>\n",
       "      <th>2</th>\n",
       "      <td>GSE30611</td>\n",
       "      <td>ERX011184</td>\n",
       "      <td>ENSG00000023330</td>\n",
       "      <td>ALAS1</td>\n",
       "      <td>23.383742</td>\n",
       "      <td>TPM</td>\n",
       "      <td>2789.99800</td>\n",
       "      <td>0</td>\n",
       "      <td>6.08E-11</td>\n",
       "      <td>UBERON:0000992</td>\n",
       "      <td>ovary</td>\n",
       "      <td>HsapDv:0000141</td>\n",
       "      <td>47-year-old stage (human)</td>\n",
       "      <td>female</td>\n",
       "      <td>Black or African American</td>\n",
       "      <td>Homo sapiens</td>\n",
       "    </tr>\n",
       "    <tr>\n",
       "      <th>3</th>\n",
       "      <td>GSE30611</td>\n",
       "      <td>ERX011185</td>\n",
       "      <td>ENSG00000023330</td>\n",
       "      <td>ALAS1</td>\n",
       "      <td>36.361474</td>\n",
       "      <td>TPM</td>\n",
       "      <td>2028.99636</td>\n",
       "      <td>0</td>\n",
       "      <td>5.19E-11</td>\n",
       "      <td>UBERON:0000468</td>\n",
       "      <td>multicellular organism</td>\n",
       "      <td>UBERON:0000104</td>\n",
       "      <td>life cycle</td>\n",
       "      <td>NaN</td>\n",
       "      <td>NaN</td>\n",
       "      <td>Homo sapiens</td>\n",
       "    </tr>\n",
       "    <tr>\n",
       "      <th>4</th>\n",
       "      <td>GSE30611</td>\n",
       "      <td>ERX011186</td>\n",
       "      <td>ENSG00000023330</td>\n",
       "      <td>ALAS1</td>\n",
       "      <td>39.504319</td>\n",
       "      <td>TPM</td>\n",
       "      <td>2870.99982</td>\n",
       "      <td>0</td>\n",
       "      <td>3.34E-12</td>\n",
       "      <td>UBERON:0000955</td>\n",
       "      <td>brain</td>\n",
       "      <td>HsapDv:0000171</td>\n",
       "      <td>77-year-old stage (human)</td>\n",
       "      <td>female</td>\n",
       "      <td>White</td>\n",
       "      <td>Homo sapiens</td>\n",
       "    </tr>\n",
       "  </tbody>\n",
       "</table>\n",
       "</div>"
      ],
      "text/plain": [
       "  Experiment ID Library ID          Gene ID Gene name  Expression level  \\\n",
       "0      GSE30611  ERX011182  ENSG00000023330     ALAS1         30.808488   \n",
       "1      GSE30611  ERX011183  ENSG00000023330     ALAS1         49.806236   \n",
       "2      GSE30611  ERX011184  ENSG00000023330     ALAS1         23.383742   \n",
       "3      GSE30611  ERX011185  ENSG00000023330     ALAS1         36.361474   \n",
       "4      GSE30611  ERX011186  ENSG00000023330     ALAS1         39.504319   \n",
       "\n",
       "  Expression level unit  Read count  UMI count Expression p-value  \\\n",
       "0                   TPM  3760.99945          0           5.92E-11   \n",
       "1                   TPM  6203.00120          0        <= 7.47e-17   \n",
       "2                   TPM  2789.99800          0           6.08E-11   \n",
       "3                   TPM  2028.99636          0           5.19E-11   \n",
       "4                   TPM  2870.99982          0           3.34E-12   \n",
       "\n",
       "  Anat. entity ID       Anat. entity name        Stage ID  \\\n",
       "0  UBERON:0000082  adult mammalian kidney  HsapDv:0000154   \n",
       "1  UBERON:0000948                   heart  HsapDv:0000171   \n",
       "2  UBERON:0000992                   ovary  HsapDv:0000141   \n",
       "3  UBERON:0000468  multicellular organism  UBERON:0000104   \n",
       "4  UBERON:0000955                   brain  HsapDv:0000171   \n",
       "\n",
       "                  Stage name     Sex                     Strain       Species  \n",
       "0  60-year-old stage (human)  female                      White  Homo sapiens  \n",
       "1  77-year-old stage (human)    male                      White  Homo sapiens  \n",
       "2  47-year-old stage (human)  female  Black or African American  Homo sapiens  \n",
       "3                 life cycle     NaN                        NaN  Homo sapiens  \n",
       "4  77-year-old stage (human)  female                      White  Homo sapiens  "
      ]
     },
     "execution_count": 4,
     "metadata": {},
     "output_type": "execute_result"
    }
   ],
   "source": [
    "data = pd.read_csv('bgeee.csv')\n",
    "data.head()"
   ]
  },
  {
   "cell_type": "markdown",
   "id": "1f93aec2",
   "metadata": {},
   "source": [
    "# Check the columns and clear uneccesaary columns"
   ]
  },
  {
   "cell_type": "code",
   "execution_count": 5,
   "id": "a19f9601",
   "metadata": {},
   "outputs": [
    {
     "data": {
      "text/plain": [
       "Index(['Experiment ID', 'Library ID', 'Gene ID', 'Gene name',\n",
       "       'Expression level', 'Expression level unit', 'Read count', 'UMI count',\n",
       "       'Expression p-value', 'Anat. entity ID', 'Anat. entity name',\n",
       "       'Stage ID', 'Stage name', 'Sex', 'Strain', 'Species'],\n",
       "      dtype='object')"
      ]
     },
     "execution_count": 5,
     "metadata": {},
     "output_type": "execute_result"
    }
   ],
   "source": [
    "data.columns"
   ]
  },
  {
   "cell_type": "code",
   "execution_count": 6,
   "id": "dfb75072",
   "metadata": {},
   "outputs": [
    {
     "data": {
      "text/html": [
       "<div>\n",
       "<style scoped>\n",
       "    .dataframe tbody tr th:only-of-type {\n",
       "        vertical-align: middle;\n",
       "    }\n",
       "\n",
       "    .dataframe tbody tr th {\n",
       "        vertical-align: top;\n",
       "    }\n",
       "\n",
       "    .dataframe thead th {\n",
       "        text-align: right;\n",
       "    }\n",
       "</style>\n",
       "<table border=\"1\" class=\"dataframe\">\n",
       "  <thead>\n",
       "    <tr style=\"text-align: right;\">\n",
       "      <th></th>\n",
       "      <th>Gene name</th>\n",
       "      <th>Expression level</th>\n",
       "      <th>Read count</th>\n",
       "      <th>Strain</th>\n",
       "    </tr>\n",
       "  </thead>\n",
       "  <tbody>\n",
       "    <tr>\n",
       "      <th>0</th>\n",
       "      <td>ALAS1</td>\n",
       "      <td>30.808488</td>\n",
       "      <td>3760.99945</td>\n",
       "      <td>White</td>\n",
       "    </tr>\n",
       "    <tr>\n",
       "      <th>1</th>\n",
       "      <td>ALAS1</td>\n",
       "      <td>49.806236</td>\n",
       "      <td>6203.00120</td>\n",
       "      <td>White</td>\n",
       "    </tr>\n",
       "    <tr>\n",
       "      <th>2</th>\n",
       "      <td>ALAS1</td>\n",
       "      <td>23.383742</td>\n",
       "      <td>2789.99800</td>\n",
       "      <td>Black or African American</td>\n",
       "    </tr>\n",
       "    <tr>\n",
       "      <th>3</th>\n",
       "      <td>ALAS1</td>\n",
       "      <td>36.361474</td>\n",
       "      <td>2028.99636</td>\n",
       "      <td>NaN</td>\n",
       "    </tr>\n",
       "    <tr>\n",
       "      <th>4</th>\n",
       "      <td>ALAS1</td>\n",
       "      <td>39.504319</td>\n",
       "      <td>2870.99982</td>\n",
       "      <td>White</td>\n",
       "    </tr>\n",
       "  </tbody>\n",
       "</table>\n",
       "</div>"
      ],
      "text/plain": [
       "  Gene name  Expression level  Read count                     Strain\n",
       "0     ALAS1         30.808488  3760.99945                      White\n",
       "1     ALAS1         49.806236  6203.00120                      White\n",
       "2     ALAS1         23.383742  2789.99800  Black or African American\n",
       "3     ALAS1         36.361474  2028.99636                        NaN\n",
       "4     ALAS1         39.504319  2870.99982                      White"
      ]
     },
     "execution_count": 6,
     "metadata": {},
     "output_type": "execute_result"
    }
   ],
   "source": [
    "df = data[[#'Experiment ID', 'Library ID', 'Gene ID', \n",
    "        'Gene name',\n",
    "       'Expression level', \n",
    "       #'Expression level unit', \n",
    "       'Read count', \n",
    "       #'UMI count',\n",
    "       #'Expression p-value', 'Anat. entity ID', 'Anat. entity name',\n",
    "       #'Stage ID', 'Stage name', 'Sex', \n",
    "       'Strain', \n",
    "       #'Species'\n",
    "       ]]\n",
    "df.head()"
   ]
  },
  {
   "cell_type": "markdown",
   "id": "24179987",
   "metadata": {},
   "source": [
    "# Create a new DataFrame(optional)"
   ]
  },
  {
   "cell_type": "code",
   "execution_count": 7,
   "id": "156a0012",
   "metadata": {},
   "outputs": [],
   "source": [
    "df_frame = pd.DataFrame(df)\n",
    "df_frame.to_csv('df.csv', index=False)"
   ]
  },
  {
   "cell_type": "markdown",
   "id": "29313db5",
   "metadata": {},
   "source": [
    "# Check if there is null column"
   ]
  },
  {
   "cell_type": "code",
   "execution_count": 8,
   "id": "50fba28f",
   "metadata": {},
   "outputs": [
    {
     "data": {
      "text/plain": [
       "Gene name             0\n",
       "Expression level      0\n",
       "Read count            0\n",
       "Strain              458\n",
       "dtype: int64"
      ]
     },
     "execution_count": 8,
     "metadata": {},
     "output_type": "execute_result"
    }
   ],
   "source": [
    "df_frame.isnull().sum()"
   ]
  },
  {
   "cell_type": "markdown",
   "id": "5ea30469",
   "metadata": {},
   "source": [
    "# Filling missing values"
   ]
  },
  {
   "cell_type": "code",
   "execution_count": 9,
   "id": "78c16170",
   "metadata": {},
   "outputs": [
    {
     "data": {
      "text/plain": [
       "Gene name           0\n",
       "Expression level    0\n",
       "Read count          0\n",
       "Strain              0\n",
       "dtype: int64"
      ]
     },
     "execution_count": 9,
     "metadata": {},
     "output_type": "execute_result"
    }
   ],
   "source": [
    "from sklearn.impute import SimpleImputer\n",
    "imp_freq = SimpleImputer(strategy= 'most_frequent')\n",
    "df_frame[['Strain']]= imp_freq.fit_transform(df[['Strain']])\n",
    "df_frame.isnull().sum()\n"
   ]
  },
  {
   "cell_type": "code",
   "execution_count": 10,
   "id": "5400aee6",
   "metadata": {},
   "outputs": [],
   "source": [
    "df_frame.to_csv('dff.csv', index=False)"
   ]
  },
  {
   "cell_type": "markdown",
   "id": "4e4d7757",
   "metadata": {},
   "source": [
    "# Calculate the Basic Statistics"
   ]
  },
  {
   "cell_type": "code",
   "execution_count": 12,
   "id": "647060d9",
   "metadata": {},
   "outputs": [],
   "source": [
    "def anaylse_data(df_frame, Property):\n",
    "    Expression= df_frame[Property]\n",
    "    mean_expr = np.mean(Expression)\n",
    "    median_expr = np.median(Expression)\n",
    "    std_expr = np.std(Expression)\n",
    "    min_expr = np.min(Expression)\n",
    "    max_expr = np.max(Expression)\n",
    "\n",
    "\n",
    "    print(f\"\\nAnalysis for {Property}:\")\n",
    "    print(f\"Mean Expression: {mean_expr:.2f}\")\n",
    "    print(f\"Median Expression: {median_expr:.2f}\")\n",
    "    print(f\"Standard Deviation: {std_expr:.2f}\")\n",
    "    print(f\"Minimum Expression: {min_expr}\")\n",
    "    print(f\"Maximum Expression: {max_expr}\")"
   ]
  },
  {
   "cell_type": "markdown",
   "id": "4f77b54a",
   "metadata": {},
   "source": [
    "# Anaylse each Property"
   ]
  },
  {
   "cell_type": "code",
   "execution_count": 16,
   "id": "f27be3e2",
   "metadata": {},
   "outputs": [
    {
     "name": "stdout",
     "output_type": "stream",
     "text": [
      "\n",
      "Analysis for Expression level:\n",
      "Mean Expression: 43.04\n",
      "Median Expression: 29.37\n",
      "Standard Deviation: 67.08\n",
      "Minimum Expression: 0.143516\n",
      "Maximum Expression: 835.14796\n"
     ]
    }
   ],
   "source": [
    "\n",
    "\n",
    "anaylse_data(df_frame,'Expression level')"
   ]
  },
  {
   "cell_type": "markdown",
   "id": "17f708a5",
   "metadata": {},
   "source": [
    "# Visualize Expression and Read count"
   ]
  },
  {
   "cell_type": "code",
   "execution_count": 17,
   "id": "f82de8af",
   "metadata": {},
   "outputs": [
    {
     "data": {
      "image/png": "[encoded data removed]",
      "text/plain": [
       "<Figure size 1000x600 with 1 Axes>"
      ]
     },
     "metadata": {},
     "output_type": "display_data"
    }
   ],
   "source": [
    "plt.figure(figsize=(10, 6))\n",
    "\n",
    "plt.hist(df['Expression level'], bins=10, alpha=0.5, label=Property)\n",
    "plt.title('Expression level of ALAS1 Gene')\n",
    "plt.xlabel('Properties')\n",
    "plt.ylabel('Frequency')\n",
    "plt.legend()\n",
    "plt.grid(True)\n",
    "plt.savefig('expression_level.png')\n",
    "plt.show()\n"
   ]
  },
  {
   "cell_type": "code",
   "execution_count": 18,
   "id": "d3744b12",
   "metadata": {},
   "outputs": [
    {
     "name": "stderr",
     "output_type": "stream",
     "text": [
      "c:\\Users\\hisript\\first_mini_project\\venv\\Lib\\site-packages\\IPython\\core\\pylabtools.py:170: UserWarning: Creating legend with loc=\"best\" can be slow with large amounts of data.\n",
      "  fig.canvas.print_figure(bytes_io, **kw)\n"
     ]
    },
    {
     "data": {
      "image/png": "[encoded data removed]",
      "text/plain": [
       "<Figure size 640x480 with 1 Axes>"
      ]
     },
     "metadata": {},
     "output_type": "display_data"
    }
   ],
   "source": [
    "import seaborn as sns\n",
    "\n",
    "sns.boxplot(df, x='Expression level', y='Read count', hue='Strain')\n",
    "plt.title('Scatter plot of ALAS1 Gene Expression level against Read count')\n",
    "plt.xlabel('Expression level')\n",
    "plt.ylabel('Read count')\n",
    "plt.legend()\n",
    "plt.grid(True)\n",
    "plt.savefig('scatterplot_expression_level.png')\n",
    "plt.show() \n"
   ]
  },
  {
   "cell_type": "markdown",
   "id": "479abfee",
   "metadata": {},
   "source": [
    "# Calculate Average level and identiy the strain with highest level of expression"
   ]
  },
  {
   "cell_type": "code",
   "execution_count": 20,
   "id": "e044b944",
   "metadata": {},
   "outputs": [
    {
     "name": "stdout",
     "output_type": "stream",
     "text": [
      "\n",
      "Strain with highest level of expression\n",
      "Strain: White, Average_level:43.04\n"
     ]
    },
    {
     "name": "stderr",
     "output_type": "stream",
     "text": [
      "C:\\Users\\hisript\\AppData\\Local\\Temp\\ipykernel_15284\\3887373718.py:1: SettingWithCopyWarning: \n",
      "A value is trying to be set on a copy of a slice from a DataFrame.\n",
      "Try using .loc[row_indexer,col_indexer] = value instead\n",
      "\n",
      "See the caveats in the documentation: https://pandas.pydata.org/pandas-docs/stable/user_guide/indexing.html#returning-a-view-versus-a-copy\n",
      "  df['Average_level']= df['Expression level'].mean()\n"
     ]
    }
   ],
   "source": [
    "df['Average_level']= df['Expression level'].mean()\n",
    "Highest_expression_level= df.loc[df['Average_level'].idxmax()]\n",
    "print(\"\\nStrain with highest level of expression\")\n",
    "print(f\"Strain: {Highest_expression_level['Strain']}, Average_level:{Highest_expression_level['Average_level']:.2f}\")"
   ]
  }
 ],
 "metadata": {
  "kernelspec": {
   "display_name": "venv",
   "language": "python",
   "name": "python3"
  },
  "language_info": {
   "codemirror_mode": {
    "name": "ipython",
    "version": 3
   },
   "file_extension": ".py",
   "mimetype": "text/x-python",
   "name": "python",
   "nbconvert_exporter": "python",
   "pygments_lexer": "ipython3",
   "version": "3.13.2"
  }
 },
 "nbformat": 4,
 "nbformat_minor": 5
}
