{
 "cells": [
  {
   "cell_type": "markdown",
   "id": "468b428f",
   "metadata": {},
   "source": [
    "# ALAS1 Strain Clustering\n",
    "# This notebook uses K-means clustering to group strains by ALAS1_Combined expression from a 1000-row Bgee RNA-Seq dataset.\n",
    "# Responds to community feedback on outliers (e.g., ~150 minutes) by analyzing their cluster assignments."
   ]
  },
  {
   "cell_type": "code",
   "execution_count": 1,
   "id": "74356a88",
   "metadata": {},
   "outputs": [],
   "source": [
    "# import libaries\n",
    "\n",
    "%matplotlib inline\n",
    "import pandas as pd\n",
    "import numpy as np\n",
    "import matplotlib.pyplot as plt\n",
    "from sklearn.cluster import KMeans\n",
    "from sklearn.preprocessing import LabelEncoder, MinMaxScaler\n",
    "from sklearn.metrics import silhouette_score"
   ]
  },
  {
   "cell_type": "markdown",
   "id": "e2963b8d",
   "metadata": {},
   "source": [
    "# Load dataset"
   ]
  },
  {
   "cell_type": "code",
   "execution_count": 3,
   "id": "92d4df18",
   "metadata": {},
   "outputs": [
    {
     "data": {
      "text/html": [
       "<div>\n",
       "<style scoped>\n",
       "    .dataframe tbody tr th:only-of-type {\n",
       "        vertical-align: middle;\n",
       "    }\n",
       "\n",
       "    .dataframe tbody tr th {\n",
       "        vertical-align: top;\n",
       "    }\n",
       "\n",
       "    .dataframe thead th {\n",
       "        text-align: right;\n",
       "    }\n",
       "</style>\n",
       "<table border=\"1\" class=\"dataframe\">\n",
       "  <thead>\n",
       "    <tr style=\"text-align: right;\">\n",
       "      <th></th>\n",
       "      <th>Gene name</th>\n",
       "      <th>Expression level</th>\n",
       "      <th>Read count</th>\n",
       "      <th>Strain</th>\n",
       "      <th>Time_min</th>\n",
       "      <th>Expression_combined</th>\n",
       "    </tr>\n",
       "  </thead>\n",
       "  <tbody>\n",
       "    <tr>\n",
       "      <th>0</th>\n",
       "      <td>ALAS1</td>\n",
       "      <td>0.036724</td>\n",
       "      <td>0.186657</td>\n",
       "      <td>White</td>\n",
       "      <td>0</td>\n",
       "      <td>0.111691</td>\n",
       "    </tr>\n",
       "    <tr>\n",
       "      <th>1</th>\n",
       "      <td>ALAS1</td>\n",
       "      <td>0.059476</td>\n",
       "      <td>0.308144</td>\n",
       "      <td>White</td>\n",
       "      <td>1</td>\n",
       "      <td>0.183810</td>\n",
       "    </tr>\n",
       "    <tr>\n",
       "      <th>2</th>\n",
       "      <td>ALAS1</td>\n",
       "      <td>0.027832</td>\n",
       "      <td>0.138351</td>\n",
       "      <td>Black or African American</td>\n",
       "      <td>2</td>\n",
       "      <td>0.083092</td>\n",
       "    </tr>\n",
       "    <tr>\n",
       "      <th>3</th>\n",
       "      <td>ALAS1</td>\n",
       "      <td>0.043375</td>\n",
       "      <td>0.100492</td>\n",
       "      <td>confidential_restricted_data</td>\n",
       "      <td>3</td>\n",
       "      <td>0.071933</td>\n",
       "    </tr>\n",
       "    <tr>\n",
       "      <th>4</th>\n",
       "      <td>ALAS1</td>\n",
       "      <td>0.047138</td>\n",
       "      <td>0.142381</td>\n",
       "      <td>White</td>\n",
       "      <td>4</td>\n",
       "      <td>0.094760</td>\n",
       "    </tr>\n",
       "  </tbody>\n",
       "</table>\n",
       "</div>"
      ],
      "text/plain": [
       "  Gene name  Expression level  ...  Time_min Expression_combined\n",
       "0     ALAS1          0.036724  ...         0            0.111691\n",
       "1     ALAS1          0.059476  ...         1            0.183810\n",
       "2     ALAS1          0.027832  ...         2            0.083092\n",
       "3     ALAS1          0.043375  ...         3            0.071933\n",
       "4     ALAS1          0.047138  ...         4            0.094760\n",
       "\n",
       "[5 rows x 6 columns]"
      ]
     },
     "execution_count": 3,
     "metadata": {},
     "output_type": "execute_result"
    }
   ],
   "source": [
    "df = pd.read_csv('alas1_expression_data.csv')\n",
    "df.head()"
   ]
  },
  {
   "cell_type": "markdown",
   "id": "a7090f73",
   "metadata": {},
   "source": [
    "# Preprosessing: Ensure numeric colums"
   ]
  },
  {
   "cell_type": "code",
   "execution_count": 4,
   "id": "1b9e3bcf",
   "metadata": {},
   "outputs": [],
   "source": [
    "df[['Expression level', 'Read count']] = df[['Expression level', 'Read count']].apply(pd.to_numeric, errors='coerce')\n",
    "df.dropna(inplace=True)"
   ]
  },
  {
   "cell_type": "markdown",
   "id": "7a690c8a",
   "metadata": {},
   "source": [
    "# Normalise and compute ALAS1 Expression combined"
   ]
  },
  {
   "cell_type": "code",
   "execution_count": 5,
   "id": "387e03f9",
   "metadata": {},
   "outputs": [],
   "source": [
    "scaler = MinMaxScaler()\n",
    "df['Expression level'] = scaler.fit_transform(df[['Expression level']])\n",
    "df['Read count'] = scaler.fit_transform(df[['Read count']])\n",
    "df['Expression_combined'] = (df['Expression level'] + df['Read count']) / 2"
   ]
  },
  {
   "cell_type": "markdown",
   "id": "473e9045",
   "metadata": {},
   "source": [
    "# Encode strain "
   ]
  },
  {
   "cell_type": "code",
   "execution_count": 7,
   "id": "5647415f",
   "metadata": {},
   "outputs": [],
   "source": [
    "le = LabelEncoder()\n",
    "df['Strain_Encoded']=le.fit_transform(df['Strain'])"
   ]
  },
  {
   "cell_type": "markdown",
   "id": "e1d30f28",
   "metadata": {},
   "source": [
    "# features for clustering"
   ]
  },
  {
   "cell_type": "code",
   "execution_count": 8,
   "id": "6a3cc2b5",
   "metadata": {},
   "outputs": [],
   "source": [
    "X = df[['Expression_combined', 'Strain_Encoded']]"
   ]
  },
  {
   "cell_type": "markdown",
   "id": "9948cc61",
   "metadata": {},
   "source": [
    "# K-means clustering (k=3, assuming 3 distinct expression groups)"
   ]
  },
  {
   "cell_type": "code",
   "execution_count": null,
   "id": "d8097d65",
   "metadata": {},
   "outputs": [],
   "source": [
    "kmeans = KMeans(n_clusters=3, random_state=42)\n",
    "df['Cluster'] = kmeans.fit_predict(X)\n",
    "df['Cluster']"
   ]
  },
  {
   "cell_type": "markdown",
   "id": "2e74a19c",
   "metadata": {},
   "source": [
    "# Evaluate clustering"
   ]
  },
  {
   "cell_type": "code",
   "execution_count": 10,
   "id": "57d74382",
   "metadata": {},
   "outputs": [
    {
     "name": "stdout",
     "output_type": "stream",
     "text": [
      "Silhouette Score: 0.9479\n"
     ]
    }
   ],
   "source": [
    "sil_score = silhouette_score(X, df['Cluster'])\n",
    "print(f\"Silhouette Score: {sil_score:.4f}\")"
   ]
  },
  {
   "cell_type": "markdown",
   "id": "ef4806da",
   "metadata": {},
   "source": [
    "# Identify outliers (from previous feedback, ~150 minutes in Read Count Visualizer)\n",
    "# Since this dataset lacks Time_min, use IQR on Expression_Combined"
   ]
  },
  {
   "cell_type": "code",
   "execution_count": 12,
   "id": "aab2664a",
   "metadata": {},
   "outputs": [
    {
     "name": "stdout",
     "output_type": "stream",
     "text": [
      "Outliers:                            Strain  Expression_combined  Cluster\n",
      "0                           White             0.111691        1\n",
      "1                           White             0.183810        1\n",
      "2       Black or African American             0.083092        2\n",
      "3    confidential_restricted_data             0.071933        0\n",
      "4                           White             0.094760        1\n",
      "..                            ...                  ...      ...\n",
      "995  confidential_restricted_data             0.024452        0\n",
      "996  confidential_restricted_data             0.247448        0\n",
      "997  confidential_restricted_data             0.054684        0\n",
      "998  confidential_restricted_data             0.050699        0\n",
      "999  confidential_restricted_data             0.041760        0\n",
      "\n",
      "[1000 rows x 3 columns]\n"
     ]
    }
   ],
   "source": [
    "Q1 = df['Expression_combined'].quantile(0.25)\n",
    "Q3 = df['Expression_combined'].quantile(0.75)\n",
    "IQR = Q1 - Q3\n",
    "outliers = df[(df['Expression_combined']< Q1 - 1.5 *IQR) | (df['Expression_combined']>Q3 + 1.5 * IQR)]\n",
    "print(\"Outliers:\", outliers[['Strain', 'Expression_combined', 'Cluster']])"
   ]
  },
  {
   "cell_type": "markdown",
   "id": "7c34394c",
   "metadata": {},
   "source": [
    "# Visualize clusters"
   ]
  },
  {
   "cell_type": "code",
   "execution_count": 13,
   "id": "6d1fb656",
   "metadata": {},
   "outputs": [
    {
     "data": {
      "image/png": "[encoded data removed]",
      "text/plain": [
       "<Figure size 1000x600 with 1 Axes>"
      ]
     },
     "metadata": {},
     "output_type": "display_data"
    }
   ],
   "source": [
    "plt.figure(figsize=(10, 6))\n",
    "for cluster in range(3):\n",
    "    cluster_data = df[df['Cluster'] == cluster]\n",
    "    plt.scatter(cluster_data['Strain_Encoded'], cluster_data['Expression_combined'], \n",
    "                label=f\"Cluster {cluster}\", alpha=0.6)\n",
    "plt.scatter(outliers['Strain_Encoded'], outliers['Expression_combined'], c='red', marker='x', s=100, label='Outliers')\n",
    "plt.xlabel('Strain (Encoded)')\n",
    "plt.ylabel('ALAS1_Expression_Combined')\n",
    "plt.title('K-means Clustering of Strains by ALAS1 Expression')\n",
    "plt.legend()\n",
    "plt.grid(True)\n",
    "plt.savefig('alas1_cluster_scatter.png')\n",
    "plt.show()   "
   ]
  },
  {
   "cell_type": "markdown",
   "id": "6a86398d",
   "metadata": {},
   "source": [
    "# Save updated dataset with cluster assignments"
   ]
  },
  {
   "cell_type": "code",
   "execution_count": null,
   "id": "34b12246",
   "metadata": {},
   "outputs": [],
   "source": [
    "df.to_csv('alas1_expression_data.csv', index=False)"
   ]
  }
 ],
 "metadata": {
  "kernelspec": {
   "display_name": "venv",
   "language": "python",
   "name": "python3"
  },
  "language_info": {
   "codemirror_mode": {
    "name": "ipython",
    "version": 3
   },
   "file_extension": ".py",
   "mimetype": "text/x-python",
   "name": "python",
   "nbconvert_exporter": "python",
   "pygments_lexer": "ipython3",
   "version": "3.13.2"
  }
 },
 "nbformat": 4,
 "nbformat_minor": 5
}
